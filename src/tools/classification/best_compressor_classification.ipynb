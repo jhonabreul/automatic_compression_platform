{
 "cells": [
  {
   "cell_type": "markdown",
   "metadata": {
    "colab_type": "text",
    "id": "JTK4bJGqfKTj"
   },
   "source": [
    "# AutoComp's Classificator\n",
    "---"
   ]
  },
  {
   "cell_type": "code",
   "execution_count": 2,
   "metadata": {
    "colab": {
     "base_uri": "https://localhost:8080/",
     "height": 89,
     "resources": {
      "http://localhost:8080/nbextensions/google.colab/files.js": {
       "data": "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",
       "headers": [
        [
         "content-type",
         "application/javascript"
        ]
       ],
       "ok": true,
       "status": 200,
       "status_text": ""
      }
     }
    },
    "colab_type": "code",
    "executionInfo": {
     "elapsed": 9174,
     "status": "ok",
     "timestamp": 1537386418963,
     "user": {
      "displayName": "Jhonathan Abreu",
      "photoUrl": "//lh4.googleusercontent.com/-4bMUXodd-B0/AAAAAAAAAAI/AAAAAAAAAlY/Lc07exuN7Aw/s50-c-k-no/photo.jpg",
      "userId": "117165292541590122752"
     },
     "user_tz": 240
    },
    "id": "yj18r8sgjSDo",
    "outputId": "49ad1c68-36d3-44db-f6f7-72e79f1b43d1"
   },
   "outputs": [
    {
     "data": {
      "text/html": [
       "\n",
       "     <input type=\"file\" id=\"files-8039f44f-8f66-4353-98e8-2f96958c0d27\" name=\"files[]\" multiple disabled />\n",
       "     <output id=\"result-8039f44f-8f66-4353-98e8-2f96958c0d27\">\n",
       "      Upload widget is only available when the cell has been executed in the\n",
       "      current browser session. Please rerun this cell to enable.\n",
       "      </output>\n",
       "      <script src=\"/nbextensions/google.colab/files.js\"></script> "
      ],
      "text/plain": [
       "<IPython.core.display.HTML object>"
      ]
     },
     "metadata": {
      "tags": []
     },
     "output_type": "display_data"
    },
    {
     "name": "stdout",
     "output_type": "stream",
     "text": [
      "Saving traning_data_20180919-152056.csv to traning_data_20180919-152056.csv\n",
      "User uploaded file \"traning_data_20180919-152056.csv\" with length 177855 bytes\n"
     ]
    }
   ],
   "source": [
    "from google.colab import files\n",
    "\n",
    "uploaded = files.upload()\n",
    "\n",
    "for fn in uploaded.keys():\n",
    "  print('User uploaded file \"{name}\" with length {length} bytes'.format(\n",
    "      name=fn, length=len(uploaded[fn])))"
   ]
  },
  {
   "cell_type": "markdown",
   "metadata": {
    "colab_type": "text",
    "id": "7y3tsCHDnv8w"
   },
   "source": [
    "## Data ingest\n",
    "---"
   ]
  },
  {
   "cell_type": "code",
   "execution_count": 1,
   "metadata": {
    "colab": {
     "base_uri": "https://localhost:8080/",
     "height": 272
    },
    "colab_type": "code",
    "executionInfo": {
     "elapsed": 1385,
     "status": "ok",
     "timestamp": 1537386434482,
     "user": {
      "displayName": "Jhonathan Abreu",
      "photoUrl": "//lh4.googleusercontent.com/-4bMUXodd-B0/AAAAAAAAAAI/AAAAAAAAAlY/Lc07exuN7Aw/s50-c-k-no/photo.jpg",
      "userId": "117165292541590122752"
     },
     "user_tz": 240
    },
    "id": "_s_zGh9QfKTm",
    "outputId": "050e10c0-9098-40b8-aca4-1665a79c3f23"
   },
   "outputs": [
    {
     "name": "stdout",
     "output_type": "stream",
     "text": [
      "dataset loaded with shape (2867, 5)\n"
     ]
    },
    {
     "data": {
      "text/html": [
       "<div>\n",
       "<style scoped>\n",
       "    .dataframe tbody tr th:only-of-type {\n",
       "        vertical-align: middle;\n",
       "    }\n",
       "\n",
       "    .dataframe tbody tr th {\n",
       "        vertical-align: top;\n",
       "    }\n",
       "\n",
       "    .dataframe thead th {\n",
       "        text-align: right;\n",
       "    }\n",
       "</style>\n",
       "<table border=\"1\" class=\"dataframe\">\n",
       "  <thead>\n",
       "    <tr style=\"text-align: right;\">\n",
       "      <th></th>\n",
       "      <th>cpu_load</th>\n",
       "      <th>bandwidth</th>\n",
       "      <th>bytecounting</th>\n",
       "      <th>compressor</th>\n",
       "      <th>compressor_label</th>\n",
       "    </tr>\n",
       "  </thead>\n",
       "  <tbody>\n",
       "    <tr>\n",
       "      <th>0</th>\n",
       "      <td>0</td>\n",
       "      <td>0</td>\n",
       "      <td>0</td>\n",
       "      <td>zlib_6</td>\n",
       "      <td>0</td>\n",
       "    </tr>\n",
       "    <tr>\n",
       "      <th>1</th>\n",
       "      <td>0</td>\n",
       "      <td>0</td>\n",
       "      <td>1</td>\n",
       "      <td>bzip2_9</td>\n",
       "      <td>1</td>\n",
       "    </tr>\n",
       "    <tr>\n",
       "      <th>2</th>\n",
       "      <td>0</td>\n",
       "      <td>0</td>\n",
       "      <td>2</td>\n",
       "      <td>zlib_6</td>\n",
       "      <td>0</td>\n",
       "    </tr>\n",
       "    <tr>\n",
       "      <th>3</th>\n",
       "      <td>0</td>\n",
       "      <td>0</td>\n",
       "      <td>3</td>\n",
       "      <td>zlib_6</td>\n",
       "      <td>0</td>\n",
       "    </tr>\n",
       "    <tr>\n",
       "      <th>4</th>\n",
       "      <td>0</td>\n",
       "      <td>0</td>\n",
       "      <td>4</td>\n",
       "      <td>zlib_6</td>\n",
       "      <td>0</td>\n",
       "    </tr>\n",
       "  </tbody>\n",
       "</table>\n",
       "</div>"
      ],
      "text/plain": [
       "   cpu_load  bandwidth  bytecounting compressor  compressor_label\n",
       "0         0          0             0     zlib_6                 0\n",
       "1         0          0             1    bzip2_9                 1\n",
       "2         0          0             2     zlib_6                 0\n",
       "3         0          0             3     zlib_6                 0\n",
       "4         0          0             4     zlib_6                 0"
      ]
     },
     "metadata": {},
     "output_type": "display_data"
    },
    {
     "data": {
      "text/plain": [
       "{'bzip2_9': 1, 'copy': 3, 'snappy': 2, 'zlib_6': 0}"
      ]
     },
     "metadata": {},
     "output_type": "display_data"
    },
    {
     "data": {
      "text/plain": [
       "dict_keys(['zlib_6', 'bzip2_9', 'snappy', 'copy'])"
      ]
     },
     "metadata": {},
     "output_type": "display_data"
    },
    {
     "name": "stdout",
     "output_type": "stream",
     "text": [
      "2723\n",
      "144\n"
     ]
    }
   ],
   "source": [
    "from sklearn import svm, tree, ensemble, naive_bayes\n",
    "from sklearn.model_selection import GridSearchCV, train_test_split\n",
    "import pandas as pd\n",
    "import numpy as np\n",
    "\n",
    "def ingest(datasetFileName):\n",
    "    data = pd.read_csv(datasetFileName, header = None)\n",
    "    data.columns = [\"cpu_load\", \"bandwidth\", \"bytecounting\", \"compressor\"]\n",
    "    \n",
    "    labels_map = {}\n",
    "    for index, label in np.ndenumerate(data.compressor.unique()):\n",
    "        labels_map[label] = index[0]\n",
    "    data[\"compressor_label\"] = data.compressor.map(labels_map)\n",
    "    data.reset_index(inplace = True)\n",
    "    data.drop('index', axis = 1, inplace = True)\n",
    "    print('dataset loaded with shape', data.shape)\n",
    "    return data, labels_map\n",
    "\n",
    "data, labels_map = ingest(\"../../../log/traning_data.csv\")\n",
    "labels = labels_map.keys()\n",
    "display(data.head())\n",
    "display(labels_map)\n",
    "display(labels)\n",
    "\n",
    "feature_vectors = data[[\"cpu_load\", \"bandwidth\", \"bytecounting\"]].values\n",
    "targets = np.array(data.compressor_label)\n",
    "\n",
    "x, x_test, y, y_test = train_test_split(feature_vectors,\n",
    "                                        targets, test_size = 0.05,\n",
    "                                        stratify = targets,\n",
    "                                        random_state = 121192)\n",
    "\n",
    "print(len(x))\n",
    "print(len(x_test))"
   ]
  },
  {
   "cell_type": "markdown",
   "metadata": {
    "colab_type": "text",
    "id": "8Z4czFKRVX_J"
   },
   "source": [
    "## Iris Dataset\n",
    "---"
   ]
  },
  {
   "cell_type": "code",
   "execution_count": 20,
   "metadata": {
    "colab": {
     "base_uri": "https://localhost:8080/",
     "height": 50
    },
    "colab_type": "code",
    "executionInfo": {
     "elapsed": 1636,
     "status": "ok",
     "timestamp": 1537408555708,
     "user": {
      "displayName": "Jhonathan Abreu",
      "photoUrl": "//lh4.googleusercontent.com/-4bMUXodd-B0/AAAAAAAAAAI/AAAAAAAAAlY/Lc07exuN7Aw/s50-c-k-no/photo.jpg",
      "userId": "117165292541590122752"
     },
     "user_tz": 240
    },
    "id": "lgBkutCdVWzM",
    "outputId": "fc1120d5-e974-41f5-a7ad-8d7d7568bfe4"
   },
   "outputs": [
    {
     "name": "stdout",
     "output_type": "stream",
     "text": [
      "142\n",
      "8\n"
     ]
    }
   ],
   "source": [
    "from sklearn import svm, tree, ensemble, naive_bayes\n",
    "from sklearn.model_selection import GridSearchCV, train_test_split\n",
    "import pandas as pd\n",
    "import numpy as np\n",
    "from sklearn import datasets\n",
    "\n",
    "iris = datasets.load_iris()\n",
    "data = iris.data\n",
    "target = iris.target\n",
    "labels = np.unique(target)\n",
    "\n",
    "x, x_test, y, y_test = train_test_split(data, target, test_size = 0.1,\n",
    "                                        stratify = target, random_state = 0)\n",
    "\n",
    "print(len(x))\n",
    "print(len(x_test))"
   ]
  },
  {
   "cell_type": "markdown",
   "metadata": {
    "colab_type": "text",
    "id": "FmW236ZG0jAI"
   },
   "source": [
    "## Classifier fitting\n",
    "---"
   ]
  },
  {
   "cell_type": "code",
   "execution_count": 2,
   "metadata": {
    "colab": {},
    "colab_type": "code",
    "id": "NPc3zQCw0mNN"
   },
   "outputs": [],
   "source": [
    "def fit(classifier, x, y, x_test = None, y_test = None):\n",
    "    classifier.fit(x, y)\n",
    "    train_accuracy = classifier.score(x, y)\n",
    "    test_accuracy = None\n",
    "    \n",
    "    if x_test is not None and y_test is not None:    \n",
    "        test_accuracy = classifier.score(x_test, y_test)\n",
    "\n",
    "    return train_accuracy, test_accuracy\n"
   ]
  },
  {
   "cell_type": "markdown",
   "metadata": {
    "colab_type": "text",
    "id": "WRm-ybgLn3VS"
   },
   "source": [
    "## Best Support Vector Machine Function\n",
    "\n",
    "---"
   ]
  },
  {
   "cell_type": "code",
   "execution_count": 3,
   "metadata": {
    "colab": {},
    "colab_type": "code",
    "id": "x3_L9jhWuJa6"
   },
   "outputs": [],
   "source": [
    "def get_best_svm(x, y):\n",
    "    parameters = [\n",
    "        #{\n",
    "        #    \"kernel\": [\"linear\"],\n",
    "        #    \"C\": [0.01, 0.1, 1, 10]\n",
    "        #},\n",
    "        {\n",
    "            \"kernel\": [\"rbf\"],\n",
    "        #    \"C\": [0.01, 0.1, 1, 10],\n",
    "            \"C\": [100],\n",
    "            \"gamma\": [0.1]\n",
    "        }\n",
    "    ]\n",
    "    grid_search = GridSearchCV(svm.SVC(), parameters, cv = 5, n_jobs = 4,\n",
    "                               verbose = 3)\n",
    "    grid_search.fit(x, y)\n",
    "\n",
    "    best_svm = None\n",
    "\n",
    "    # Instanciating the best SVM\n",
    "    if len(grid_search.best_params_) == 2:\n",
    "        best_svm = svm.SVC(kernel = grid_search.best_params_[\"kernel\"],\n",
    "                                  C = grid_search.best_params_[\"C\"])\n",
    "    elif len(grid_search.best_params_) == 3:\n",
    "        best_svm = svm.SVC(kernel = grid_search.best_params_[\"kernel\"],\n",
    "                                  C = grid_search.best_params_[\"C\"],\n",
    "                                  gamma = grid_search.best_params_[\"gamma\"])\n",
    "    else:\n",
    "        best_svm = svm.SVC(kernel = grid_search.best_params_[\"kernel\"],\n",
    "                                  C = grid_search.best_params_[\"C\"],\n",
    "                                  gamma = grid_search.best_params_[\"gamma\"],\n",
    "                                  degree = grid_search.best_params_[\"degree\"])\n",
    "       \n",
    "    return best_svm, grid_search.best_params_"
   ]
  },
  {
   "cell_type": "markdown",
   "metadata": {
    "colab_type": "text",
    "id": "1r4FkLT1usqk"
   },
   "source": [
    "## Best Decision Tree Function\n",
    "---"
   ]
  },
  {
   "cell_type": "code",
   "execution_count": 6,
   "metadata": {
    "colab": {},
    "colab_type": "code",
    "id": "9Cts7QxPu0ok"
   },
   "outputs": [],
   "source": [
    "def get_best_decision_tree(x, y):\n",
    "    parameters = {\n",
    "        \"criterion\": [\"entropy\"],\n",
    "        \"splitter\": [\"best\"],\n",
    "        \"max_depth\": [9]\n",
    "    }\n",
    "    grid_search = GridSearchCV(tree.DecisionTreeClassifier(random_state = 0),\n",
    "                               parameters, cv = 5, n_jobs = 8, verbose = 1)\n",
    "    grid_search.fit(x, y)\n",
    "\n",
    "    # Instanciating the best decision tree\n",
    "\n",
    "    best_decision_tree = \\\n",
    "        tree.DecisionTreeClassifier(criterion = grid_search.best_params_[\"criterion\"],\n",
    "                                    max_depth = grid_search.best_params_[\"max_depth\"],\n",
    "                                    splitter = grid_search.best_params_[\"splitter\"],\n",
    "                                    random_state = 0)\n",
    "    \n",
    "    return best_decision_tree, grid_search.best_params_"
   ]
  },
  {
   "cell_type": "markdown",
   "metadata": {
    "colab_type": "text",
    "id": "4plCRZBdvSU_"
   },
   "source": [
    "## Best AdaBoost Function\n",
    "---"
   ]
  },
  {
   "cell_type": "code",
   "execution_count": 7,
   "metadata": {
    "colab": {},
    "colab_type": "code",
    "id": "xfZ5kWPovX0f"
   },
   "outputs": [],
   "source": [
    "def get_best_adaboost(x, y):\n",
    "    parameters = {\n",
    "        \"base_estimator__criterion\": [\"gini\"],\n",
    "        \"base_estimator__splitter\": [\"best\"],\n",
    "        \"base_estimator__max_depth\": [11],\n",
    "        \"n_estimators\": [60]\n",
    "    }\n",
    "\n",
    "    base_estimator = tree.DecisionTreeClassifier(random_state = 0)\n",
    "    grid_search = \\\n",
    "        GridSearchCV(ensemble.AdaBoostClassifier(base_estimator = base_estimator,\n",
    "                                                 random_state = 0),\n",
    "                     parameters, cv = 5, n_jobs = 8, verbose = 1)\n",
    "    grid_search.fit(x, y)\n",
    "\n",
    "    # Instanciating the best AdaBoost\n",
    "\n",
    "    base_estimator = \\\n",
    "        tree.DecisionTreeClassifier(criterion = grid_search.best_params_[\"base_estimator__criterion\"],\n",
    "                                    max_depth = grid_search.best_params_[\"base_estimator__max_depth\"],\n",
    "                                    splitter = grid_search.best_params_[\"base_estimator__splitter\"],\n",
    "                                    random_state = 0)\n",
    "    best_adaboost = \\\n",
    "        ensemble.AdaBoostClassifier(base_estimator = base_estimator,\n",
    "                                    n_estimators = grid_search.best_params_[\"n_estimators\"],\n",
    "                                    random_state = 0)\n",
    "    \n",
    "    return best_adaboost, grid_search.best_params_"
   ]
  },
  {
   "cell_type": "markdown",
   "metadata": {
    "colab_type": "text",
    "id": "K-sTyyn8vyiT"
   },
   "source": [
    "## Best Random Forest Function\n",
    "---"
   ]
  },
  {
   "cell_type": "code",
   "execution_count": 7,
   "metadata": {
    "colab": {},
    "colab_type": "code",
    "id": "fW9KlOjfv6wb"
   },
   "outputs": [],
   "source": [
    "def get_best_random_forest(x, y):\n",
    "    parameters = { \n",
    "        \"n_estimators\": [5, 10, 30, 50, 60],\n",
    "        \"max_depth\": [4, 5, 6, 7, 8, 9, 10, 11, 12, 15, 20, 30, 40, 50, None],\n",
    "        \"criterion\":['gini', 'entropy']\n",
    "    }\n",
    "\n",
    "    grid_search = \\\n",
    "        GridSearchCV(ensemble.RandomForestClassifier(n_jobs = 8, random_state = 0),\n",
    "                     parameters, cv = 5, n_jobs = 8, verbose = 1)\n",
    "    grid_search.fit(x, y)\n",
    "\n",
    "    # Instanciating the best random forest\n",
    "\n",
    "    best_random_forest = \\\n",
    "        ensemble.RandomForestClassifier(criterion = grid_search.best_params_[\"criterion\"],\n",
    "                                        max_depth = grid_search.best_params_[\"max_depth\"],\n",
    "                                        n_estimators = grid_search.best_params_[\"n_estimators\"],\n",
    "                                        random_state = 0)\n",
    "    \n",
    "    return best_random_forest, grid_search.best_params_"
   ]
  },
  {
   "cell_type": "markdown",
   "metadata": {
    "colab_type": "text",
    "id": "YiWrmPUwkwCv"
   },
   "source": [
    "## Best Multinomial Naive Bayes\n",
    "---"
   ]
  },
  {
   "cell_type": "code",
   "execution_count": 8,
   "metadata": {
    "colab": {},
    "colab_type": "code",
    "id": "D5Kg5pdQk0nN"
   },
   "outputs": [],
   "source": [
    "def get_best_multinomialnb(x, y):\n",
    "    parameters = { \n",
    "        \"alpha\": [0.1, 1, 2, 3, 4, 5, 6, 7, 8, 9, 10]\n",
    "    }\n",
    "\n",
    "    grid_search = \\\n",
    "        GridSearchCV(naive_bayes.MultinomialNB(), parameters, cv = 5,\n",
    "                     n_jobs = 8, verbose = 1)\n",
    "    grid_search.fit(x, y)\n",
    "\n",
    "    # Instanciating the best multinomial NB\n",
    "\n",
    "    best_multinomianb = \\\n",
    "        naive_bayes.MultinomialNB(alpha = grid_search.best_params_[\"alpha\"])\n",
    "    \n",
    "    return best_multinomianb, grid_search.best_params_"
   ]
  },
  {
   "cell_type": "markdown",
   "metadata": {
    "colab_type": "text",
    "id": "wyoKKRBIwdSR"
   },
   "source": [
    "## Best classifiers\n",
    "---\n",
    "\n",
    "### SVM"
   ]
  },
  {
   "cell_type": "code",
   "execution_count": 9,
   "metadata": {
    "colab": {
     "base_uri": "https://localhost:8080/",
     "height": 1500
    },
    "colab_type": "code",
    "executionInfo": {
     "elapsed": 1962,
     "status": "ok",
     "timestamp": 1537408599523,
     "user": {
      "displayName": "Jhonathan Abreu",
      "photoUrl": "//lh4.googleusercontent.com/-4bMUXodd-B0/AAAAAAAAAAI/AAAAAAAAAlY/Lc07exuN7Aw/s50-c-k-no/photo.jpg",
      "userId": "117165292541590122752"
     },
     "user_tz": 240
    },
    "id": "ilckov1CfKT1",
    "outputId": "8160c81b-373e-45a1-b595-63ff60513301"
   },
   "outputs": [
    {
     "name": "stdout",
     "output_type": "stream",
     "text": [
      "-----------------------------------------------------------------------\n",
      "--> Searching best hyperparameters for SVM:\n",
      "\n",
      "Fitting 5 folds for each of 1 candidates, totalling 5 fits\n",
      "[CV] C=100, gamma=0.1, kernel=rbf ....................................\n",
      "[CV] C=100, gamma=0.1, kernel=rbf ....................................\n",
      "[CV] C=100, gamma=0.1, kernel=rbf ....................................\n",
      "[CV] C=100, gamma=0.1, kernel=rbf ....................................\n",
      "[CV]  C=100, gamma=0.1, kernel=rbf, score=0.8278388278388278, total=   1.5s\n",
      "[CV]  C=100, gamma=0.1, kernel=rbf, score=0.8311926605504587, total=   1.4s\n",
      "[CV] C=100, gamma=0.1, kernel=rbf ....................................\n",
      "[CV]  C=100, gamma=0.1, kernel=rbf, score=0.8379373848987108, total=   1.5s\n"
     ]
    },
    {
     "name": "stderr",
     "output_type": "stream",
     "text": [
      "[Parallel(n_jobs=4)]: Done   2 out of   5 | elapsed:    1.8s remaining:    2.7s\n"
     ]
    },
    {
     "name": "stdout",
     "output_type": "stream",
     "text": [
      "[CV]  C=100, gamma=0.1, kernel=rbf, score=0.8095238095238095, total=   1.7s\n",
      "[CV]  C=100, gamma=0.1, kernel=rbf, score=0.8158379373848987, total=   1.0s\n"
     ]
    },
    {
     "name": "stderr",
     "output_type": "stream",
     "text": [
      "[Parallel(n_jobs=4)]: Done   5 out of   5 | elapsed:    3.0s finished\n"
     ]
    },
    {
     "name": "stdout",
     "output_type": "stream",
     "text": [
      "\n",
      "Done: {'C': 100, 'gamma': 0.1, 'kernel': 'rbf'}\n",
      "-----------------------------------------------------------------------\n"
     ]
    }
   ],
   "source": [
    "# Best SVM #####################################################################\n",
    "\n",
    "print(\"-----------------------------------------------------------------------\")\n",
    "print(\"--> Searching best hyperparameters for SVM:\\n\")\n",
    "\n",
    "best_svm, svm_best_parameters = get_best_svm(x, y)\n",
    "\n",
    "print(\"\\nDone:\", svm_best_parameters)\n",
    "print(\"-----------------------------------------------------------------------\")\n",
    "\n",
    "################################################################################"
   ]
  },
  {
   "cell_type": "markdown",
   "metadata": {
    "colab_type": "text",
    "id": "ys-h23HD4Vcj"
   },
   "source": [
    "### Decision Tree"
   ]
  },
  {
   "cell_type": "code",
   "execution_count": 10,
   "metadata": {
    "colab": {
     "base_uri": "https://localhost:8080/",
     "height": 183
    },
    "colab_type": "code",
    "executionInfo": {
     "elapsed": 1146,
     "status": "ok",
     "timestamp": 1537408611449,
     "user": {
      "displayName": "Jhonathan Abreu",
      "photoUrl": "//lh4.googleusercontent.com/-4bMUXodd-B0/AAAAAAAAAAI/AAAAAAAAAlY/Lc07exuN7Aw/s50-c-k-no/photo.jpg",
      "userId": "117165292541590122752"
     },
     "user_tz": 240
    },
    "id": "fbpktgLp4W6R",
    "outputId": "40c2d9db-0f6f-475b-e593-0facdf0a4f63"
   },
   "outputs": [
    {
     "name": "stdout",
     "output_type": "stream",
     "text": [
      "\n",
      "\n",
      "-----------------------------------------------------------------------\n",
      "--> Searching best hyperparameters for decision tree:\n",
      "\n",
      "Fitting 5 folds for each of 1 candidates, totalling 5 fits\n",
      "\n",
      "   Done: {'criterion': 'entropy', 'max_depth': 9, 'splitter': 'best'}\n",
      "-----------------------------------------------------------------------\n"
     ]
    },
    {
     "name": "stderr",
     "output_type": "stream",
     "text": [
      "[Parallel(n_jobs=8)]: Done   2 out of   5 | elapsed:    0.1s remaining:    0.1s\n",
      "[Parallel(n_jobs=8)]: Done   5 out of   5 | elapsed:    0.1s finished\n"
     ]
    }
   ],
   "source": [
    "# Best Decision Tree ###########################################################\n",
    "\n",
    "print(\"\\n\")\n",
    "print(\"-----------------------------------------------------------------------\")\n",
    "print(\"--> Searching best hyperparameters for decision tree:\\n\")\n",
    "\n",
    "best_decision_tree, dt_best_parameters = get_best_decision_tree(x, y)\n",
    "\n",
    "print(\"\\n   Done:\", dt_best_parameters)\n",
    "print(\"-----------------------------------------------------------------------\")\n",
    "\n",
    "################################################################################"
   ]
  },
  {
   "cell_type": "markdown",
   "metadata": {
    "colab_type": "text",
    "id": "riFfuVAz4aKn"
   },
   "source": [
    "### AdaBoost"
   ]
  },
  {
   "cell_type": "code",
   "execution_count": 11,
   "metadata": {
    "colab": {
     "base_uri": "https://localhost:8080/",
     "height": 200
    },
    "colab_type": "code",
    "executionInfo": {
     "elapsed": 9684,
     "status": "ok",
     "timestamp": 1537408629182,
     "user": {
      "displayName": "Jhonathan Abreu",
      "photoUrl": "//lh4.googleusercontent.com/-4bMUXodd-B0/AAAAAAAAAAI/AAAAAAAAAlY/Lc07exuN7Aw/s50-c-k-no/photo.jpg",
      "userId": "117165292541590122752"
     },
     "user_tz": 240
    },
    "id": "a0wfmqtf4ewg",
    "outputId": "e7cd4443-f427-45a3-8e33-4297c7d5f762"
   },
   "outputs": [
    {
     "name": "stdout",
     "output_type": "stream",
     "text": [
      "\n",
      "\n",
      "-----------------------------------------------------------------------\n",
      "--> Searching best hyperparameters for AdaBoost:\n",
      "\n",
      "Fitting 5 folds for each of 1 candidates, totalling 5 fits\n"
     ]
    },
    {
     "name": "stderr",
     "output_type": "stream",
     "text": [
      "[Parallel(n_jobs=8)]: Done   2 out of   5 | elapsed:    1.4s remaining:    2.1s\n",
      "[Parallel(n_jobs=8)]: Done   5 out of   5 | elapsed:    1.5s finished\n"
     ]
    },
    {
     "name": "stdout",
     "output_type": "stream",
     "text": [
      "\n",
      "   Done: {'base_estimator__criterion': 'gini', 'base_estimator__max_depth': 11, 'base_estimator__splitter': 'best', 'n_estimators': 60}\n",
      "-----------------------------------------------------------------------\n"
     ]
    }
   ],
   "source": [
    "# Best AdaBoost ################################################################\n",
    "\n",
    "print(\"\\n\")\n",
    "print(\"-----------------------------------------------------------------------\")\n",
    "print(\"--> Searching best hyperparameters for AdaBoost:\\n\")\n",
    "\n",
    "best_adaboost, ab_best_parameters = get_best_adaboost(x, y)\n",
    "\n",
    "print(\"\\n   Done:\", ab_best_parameters)\n",
    "print(\"-----------------------------------------------------------------------\")\n",
    "\n",
    "################################################################################"
   ]
  },
  {
   "cell_type": "markdown",
   "metadata": {
    "colab_type": "text",
    "id": "qnrHMzb54cfd"
   },
   "source": [
    "### Random Forest"
   ]
  },
  {
   "cell_type": "code",
   "execution_count": 11,
   "metadata": {
    "colab": {
     "base_uri": "https://localhost:8080/",
     "height": 687
    },
    "colab_type": "code",
    "executionInfo": {
     "elapsed": 151462,
     "status": "ok",
     "timestamp": 1537390269630,
     "user": {
      "displayName": "Jhonathan Abreu",
      "photoUrl": "//lh4.googleusercontent.com/-4bMUXodd-B0/AAAAAAAAAAI/AAAAAAAAAlY/Lc07exuN7Aw/s50-c-k-no/photo.jpg",
      "userId": "117165292541590122752"
     },
     "user_tz": 240
    },
    "id": "jg9IrYwk4fPY",
    "outputId": "2f900e9b-1a12-4199-cffb-bd88828fa582"
   },
   "outputs": [
    {
     "name": "stdout",
     "output_type": "stream",
     "text": [
      "\n",
      "\n",
      "-----------------------------------------------------------------------\n",
      "--> Searching best hyperparameters for random forest:\n",
      "\n",
      "Fitting 5 folds for each of 150 candidates, totalling 750 fits\n"
     ]
    },
    {
     "name": "stderr",
     "output_type": "stream",
     "text": [
      "[Parallel(n_jobs=8)]: Done  34 tasks      | elapsed:    2.3s\n",
      "[Parallel(n_jobs=8)]: Done 184 tasks      | elapsed:   15.0s\n",
      "[Parallel(n_jobs=8)]: Done 434 tasks      | elapsed:   49.7s\n",
      "[Parallel(n_jobs=8)]: Done 750 out of 750 | elapsed:  1.8min finished\n"
     ]
    },
    {
     "name": "stdout",
     "output_type": "stream",
     "text": [
      "\n",
      "   Done: {'criterion': 'entropy', 'max_depth': 15, 'n_estimators': 60}\n",
      "Train accuracy: 0.884968429989\n",
      "Test accuracy: 0.549403341289\n",
      "-----------------------------------------------------------------------\n"
     ]
    },
    {
     "ename": "NameError",
     "evalue": "name 'plot_confusion_matrix' is not defined",
     "output_type": "error",
     "traceback": [
      "\u001b[0;31m---------------------------------------------------------------------------\u001b[0m",
      "\u001b[0;31mNameError\u001b[0m                                 Traceback (most recent call last)",
      "\u001b[0;32m<ipython-input-11-77dc366df939>\u001b[0m in \u001b[0;36m<module>\u001b[0;34m()\u001b[0m\n\u001b[1;32m     14\u001b[0m \u001b[0mprint\u001b[0m\u001b[0;34m(\u001b[0m\u001b[0;34m\"-----------------------------------------------------------------------\"\u001b[0m\u001b[0;34m)\u001b[0m\u001b[0;34m\u001b[0m\u001b[0m\n\u001b[1;32m     15\u001b[0m \u001b[0;34m\u001b[0m\u001b[0m\n\u001b[0;32m---> 16\u001b[0;31m \u001b[0mplot_confusion_matrix\u001b[0m\u001b[0;34m(\u001b[0m\u001b[0mbest_random_forest\u001b[0m\u001b[0;34m,\u001b[0m \u001b[0mx_test\u001b[0m\u001b[0;34m,\u001b[0m \u001b[0my_test\u001b[0m\u001b[0;34m,\u001b[0m \u001b[0mlabels\u001b[0m\u001b[0;34m)\u001b[0m\u001b[0;34m\u001b[0m\u001b[0m\n\u001b[0m\u001b[1;32m     17\u001b[0m \u001b[0;34m\u001b[0m\u001b[0m\n\u001b[1;32m     18\u001b[0m \u001b[0;31m################################################################################\u001b[0m\u001b[0;34m\u001b[0m\u001b[0;34m\u001b[0m\u001b[0m\n",
      "\u001b[0;31mNameError\u001b[0m: name 'plot_confusion_matrix' is not defined"
     ]
    }
   ],
   "source": [
    "# Best Random Forest ###########################################################\n",
    "\n",
    "print(\"\\n\")\n",
    "print(\"-----------------------------------------------------------------------\")\n",
    "print(\"--> Searching best hyperparameters for random forest:\\n\")\n",
    "\n",
    "best_random_forest, rf_best_parameters = get_best_random_forest(x, y)\n",
    "\n",
    "train_accuracy, test_accuracy = fit(best_random_forest, x, y, x_test, y_test)\n",
    "\n",
    "print(\"\\n   Done:\", rf_best_parameters)\n",
    "print(\"Train accuracy:\", train_accuracy)\n",
    "print(\"Test accuracy:\", test_accuracy)\n",
    "print(\"-----------------------------------------------------------------------\")\n",
    "\n",
    "plot_confusion_matrix(best_random_forest, x_test, y_test, labels)\n",
    "\n",
    "################################################################################"
   ]
  },
  {
   "cell_type": "markdown",
   "metadata": {
    "colab_type": "text",
    "id": "5pfEcATSqvTY"
   },
   "source": [
    "### Multinomial Naive Bayes"
   ]
  },
  {
   "cell_type": "code",
   "execution_count": 12,
   "metadata": {
    "colab": {
     "base_uri": "https://localhost:8080/",
     "height": 183
    },
    "colab_type": "code",
    "executionInfo": {
     "elapsed": 1126,
     "status": "ok",
     "timestamp": 1537408707857,
     "user": {
      "displayName": "Jhonathan Abreu",
      "photoUrl": "//lh4.googleusercontent.com/-4bMUXodd-B0/AAAAAAAAAAI/AAAAAAAAAlY/Lc07exuN7Aw/s50-c-k-no/photo.jpg",
      "userId": "117165292541590122752"
     },
     "user_tz": 240
    },
    "id": "tww4cnaG5Uwu",
    "outputId": "26b2c598-60fc-4df6-92dd-235a585dce12"
   },
   "outputs": [
    {
     "name": "stdout",
     "output_type": "stream",
     "text": [
      "\n",
      "\n",
      "-----------------------------------------------------------------------\n",
      "--> Searching best hyperparameters for random forest:\n",
      "\n",
      "Fitting 5 folds for each of 11 candidates, totalling 55 fits\n",
      "\n",
      "   Done: {'alpha': 0.1}\n",
      "-----------------------------------------------------------------------\n"
     ]
    },
    {
     "name": "stderr",
     "output_type": "stream",
     "text": [
      "[Parallel(n_jobs=8)]: Done  40 out of  55 | elapsed:    0.5s remaining:    0.2s\n",
      "[Parallel(n_jobs=8)]: Done  55 out of  55 | elapsed:    0.5s finished\n"
     ]
    }
   ],
   "source": [
    "# Best Multinomial Naive Bayes #################################################\n",
    "\n",
    "print(\"\\n\")\n",
    "print(\"-----------------------------------------------------------------------\")\n",
    "print(\"--> Searching best hyperparameters for random forest:\\n\")\n",
    "\n",
    "best_multinomialnb, mnb_best_parameters = get_best_multinomialnb(x, y)\n",
    "\n",
    "print(\"\\n   Done:\", mnb_best_parameters)\n",
    "print(\"-----------------------------------------------------------------------\")\n",
    "\n",
    "################################################################################"
   ]
  },
  {
   "cell_type": "markdown",
   "metadata": {
    "colab_type": "text",
    "id": "3yY2xsz3rDMv"
   },
   "source": [
    "## Plotting Confusion Matrices\n",
    "---"
   ]
  },
  {
   "cell_type": "code",
   "execution_count": 23,
   "metadata": {
    "colab": {
     "base_uri": "https://localhost:8080/",
     "height": 880
    },
    "colab_type": "code",
    "executionInfo": {
     "elapsed": 1852,
     "status": "ok",
     "timestamp": 1537413926481,
     "user": {
      "displayName": "Jhonathan Abreu",
      "photoUrl": "//lh4.googleusercontent.com/-4bMUXodd-B0/AAAAAAAAAAI/AAAAAAAAAlY/Lc07exuN7Aw/s50-c-k-no/photo.jpg",
      "userId": "117165292541590122752"
     },
     "user_tz": 240
    },
    "id": "joq_oXuerFVQ",
    "outputId": "bccd1912-7e0e-474e-cfc9-f5486b5541d2"
   },
   "outputs": [
    {
     "name": "stdout",
     "output_type": "stream",
     "text": [
      "Traning SVM:\n",
      "   Train accuracy:  0.9294895336026442\n",
      "   Test accuracy:  0.8541666666666666\n",
      "\n",
      "Traning Decision Tree:\n",
      "   Train accuracy:  0.9140653690782226\n",
      "   Test accuracy:  0.8472222222222222\n",
      "\n",
      "Traning AdaBoost:\n",
      "   Train accuracy:  1.0\n",
      "   Test accuracy:  0.8541666666666666\n",
      "\n",
      "Traning Multinomial Naive Bayes:\n",
      "   Train accuracy:  0.6929856775615131\n",
      "   Test accuracy:  0.6875\n",
      "\n"
     ]
    },
    {
     "data": {
      "text/plain": [
       "Text(0.5,1,'Bayesiano ingenuo multinomial')"
      ]
     },
     "execution_count": 23,
     "metadata": {},
     "output_type": "execute_result"
    },
    {
     "data": {
      "image/png": "[encoded data removed]",
      "text/plain": [
       "<matplotlib.figure.Figure at 0x7f2d2551a9e8>"
      ]
     },
     "metadata": {},
     "output_type": "display_data"
    },
    {
     "data": {
      "text/plain": [
       "<matplotlib.figure.Figure at 0x7f2d2544a748>"
      ]
     },
     "metadata": {},
     "output_type": "display_data"
    },
    {
     "data": {
      "text/plain": [
       "<matplotlib.figure.Figure at 0x7f2d254313c8>"
      ]
     },
     "metadata": {},
     "output_type": "display_data"
    },
    {
     "data": {
      "text/plain": [
       "<matplotlib.figure.Figure at 0x7f2d25431390>"
      ]
     },
     "metadata": {},
     "output_type": "display_data"
    },
    {
     "data": {
      "text/plain": [
       "<matplotlib.figure.Figure at 0x7f2d253d2128>"
      ]
     },
     "metadata": {},
     "output_type": "display_data"
    }
   ],
   "source": [
    "from sklearn import metrics\n",
    "import matplotlib.pyplot as plot\n",
    "import seaborn as sn\n",
    "\n",
    "plot.rcParams['backend'] = \"Qt4Agg\"\n",
    "\n",
    "def prepare_subplots(n, m):\n",
    "    plot.close()\n",
    "    fig, axes = plot.subplots(n, m, figsize = (10, 8), squeeze = False,\n",
    "                              sharex = True, sharey = True)\n",
    "    \n",
    "    return axes.flatten()\n",
    "\n",
    "def plot_confusion_matrix(classifier, x, y, labels, ax, normalize = True):\n",
    "    predictions = classifier.predict(x)\n",
    "    confusion_matrix = metrics.confusion_matrix(y, predictions)\n",
    "    \n",
    "    if normalize:\n",
    "        confusion_matrix = confusion_matrix.astype(\"float\") / \\\n",
    "                                confusion_matrix.sum(axis = 1)[:, np.newaxis]\n",
    "\n",
    "    confusion_matrix_frame = pd.DataFrame(confusion_matrix, labels, labels)\n",
    "    plot.figure(figsize = (10, 7))\n",
    "    sn.set(font_scale = 1.4)\n",
    "    sn.heatmap(confusion_matrix_frame, ax = ax, annot = True,\n",
    "               annot_kws = {\"size\": 13}, cmap = \"Blues\",\n",
    "               fmt = \"g\" if not normalize else \".2f\")\n",
    "\n",
    "\n",
    "print(\"Traning SVM:\")\n",
    "svm_train_accuracy, svm_test_accuracy = fit(best_svm, x, y, x_test, y_test)\n",
    "print(\"   Train accuracy: \", svm_train_accuracy)\n",
    "print(\"   Test accuracy: \", svm_test_accuracy)\n",
    "print(\"\")\n",
    "\n",
    "\n",
    "print(\"Traning Decision Tree:\")\n",
    "dt_train_accuracy, dt_test_accuracy = fit(best_decision_tree, x, y, x_test, y_test)\n",
    "print(\"   Train accuracy: \", dt_train_accuracy)\n",
    "print(\"   Test accuracy: \", dt_test_accuracy)\n",
    "print(\"\")\n",
    "\n",
    "\n",
    "print(\"Traning AdaBoost:\")\n",
    "ab_train_accuracy, ab_test_accuracy = fit(best_adaboost, x, y, x_test, y_test)\n",
    "print(\"   Train accuracy: \", ab_train_accuracy)\n",
    "print(\"   Test accuracy: \", ab_test_accuracy)\n",
    "print(\"\")\n",
    "\n",
    "print(\"Traning Multinomial Naive Bayes:\")\n",
    "mnb_train_accuracy, mnb_test_accuracy = fit(best_multinomialnb, x, y, x_test, y_test)\n",
    "print(\"   Train accuracy: \", mnb_train_accuracy)\n",
    "print(\"   Test accuracy: \", mnb_test_accuracy)\n",
    "print(\"\")\n",
    "\n",
    "cf_labels = [label.split(\"_\")[0] for label in labels]\n",
    "cf_labels = [label if label != \"copy\" else \"copia\"\n",
    "             for label in cf_labels]\n",
    "\n",
    "axes = prepare_subplots(2, 2)\n",
    "plot_confusion_matrix(best_svm, x_test, y_test, cf_labels, axes[0])\n",
    "plot_confusion_matrix(best_decision_tree, x_test, y_test, cf_labels, axes[1])\n",
    "plot_confusion_matrix(best_adaboost, x_test, y_test, cf_labels, axes[2])\n",
    "plot_confusion_matrix(best_multinomialnb, x_test, y_test, cf_labels, axes[3])\n",
    "\n",
    "axes[0].set_title(\"Máquina de vectores de soporte\", fontsize = 13)\n",
    "axes[1].set_title(\"Árbol de decisión\", fontsize = 13)\n",
    "axes[2].set_title(\"AdaBoost\", fontsize = 13)\n",
    "axes[3].set_title(\"Bayesiano ingenuo multinomial\", fontsize = 13)"
   ]
  },
  {
   "cell_type": "code",
   "execution_count": null,
   "metadata": {},
   "outputs": [],
   "source": []
  },
  {
   "cell_type": "markdown",
   "metadata": {},
   "source": [
    "## Training decision tree with whole data\n",
    "___"
   ]
  },
  {
   "cell_type": "code",
   "execution_count": 9,
   "metadata": {},
   "outputs": [
    {
     "name": "stdout",
     "output_type": "stream",
     "text": [
      "Fitting 5 folds for each of 60 candidates, totalling 300 fits\n",
      "Best parameters: {'criterion': 'entropy', 'max_depth': 5, 'splitter': 'random'}\n",
      "Train accuracy:  0.803627485176\n",
      "Test accuracy:  None\n"
     ]
    },
    {
     "name": "stderr",
     "output_type": "stream",
     "text": [
      "[Parallel(n_jobs=8)]: Done 300 out of 300 | elapsed:    0.2s finished\n"
     ]
    },
    {
     "data": {
      "image/png": "[encoded data removed]",
      "text/plain": [
       "<matplotlib.figure.Figure at 0x7ff999c5a4a8>"
      ]
     },
     "metadata": {},
     "output_type": "display_data"
    },
    {
     "data": {
      "text/plain": [
       "<matplotlib.figure.Figure at 0x7ff999f81e48>"
      ]
     },
     "metadata": {},
     "output_type": "display_data"
    }
   ],
   "source": [
    "decision_tree, best_parameters = get_best_decision_tree(feature_vectors, targets)\n",
    "print(\"Best parameters:\", best_parameters)\n",
    "\n",
    "train_accuracy, test_accuracy = fit(decision_tree, feature_vectors, targets)\n",
    "print(\"Train accuracy: \", train_accuracy)\n",
    "print(\"Test accuracy: \", test_accuracy)\n",
    "\n",
    "plot.close()\n",
    "plot_confusion_matrix(decision_tree, feature_vectors, targets, labels, plot.gca(), True)"
   ]
  },
  {
   "cell_type": "markdown",
   "metadata": {},
   "source": [
    "## Saving decision tree classifier\n",
    "---"
   ]
  },
  {
   "cell_type": "code",
   "execution_count": 20,
   "metadata": {
    "colab": {},
    "colab_type": "code",
    "id": "IfoGvdp4s03L"
   },
   "outputs": [],
   "source": [
    "import csv\n",
    "\n",
    "def save_decision_tree(decision_tree, filename, labels = []):\n",
    "    node_info = zip(decision_tree.tree_.children_left,\n",
    "                    decision_tree.tree_.children_right,\n",
    "                    decision_tree.tree_.feature,\n",
    "                    decision_tree.tree_.threshold,\n",
    "                    [probabilities.argmax()\n",
    "                     for probabilities in decision_tree.tree_.value])\n",
    "    node_info = list(node_info)\n",
    "    \n",
    "    features = np.unique(decision_tree.tree_.feature)\n",
    "    null_feature_index = np.where(features == tree._tree.TREE_UNDEFINED)\n",
    "    n_features = len(np.delete(features, null_feature_index))\n",
    "    \n",
    "    with open(filename, \"w\") as file:\n",
    "        writer = csv.writer(file, delimiter = \" \");\n",
    "        writer.writerow([len(labels)])\n",
    "        writer.writerow(labels)\n",
    "        writer.writerow([n_features])\n",
    "        writer.writerow([decision_tree.tree_.node_count])\n",
    "        writer.writerows(node_info)\n",
    "        \n",
    "#dt_train_accuracy, dt_test_accuracy = fit(best_decision_tree, x, y, x_test, y_test)\n",
    "save_decision_tree(best_decision_tree, \"../../../models/decision_tree.txt\", labels)"
   ]
  },
  {
   "cell_type": "code",
   "execution_count": null,
   "metadata": {},
   "outputs": [],
   "source": []
  },
  {
   "cell_type": "code",
   "execution_count": null,
   "metadata": {},
   "outputs": [],
   "source": []
  },
  {
   "cell_type": "code",
   "execution_count": null,
   "metadata": {},
   "outputs": [],
   "source": []
  },
  {
   "cell_type": "code",
   "execution_count": null,
   "metadata": {},
   "outputs": [],
   "source": []
  },
  {
   "cell_type": "code",
   "execution_count": null,
   "metadata": {},
   "outputs": [],
   "source": []
  },
  {
   "cell_type": "code",
   "execution_count": null,
   "metadata": {},
   "outputs": [],
   "source": []
  }
 ],
 "metadata": {
  "colab": {
   "collapsed_sections": [],
   "name": "best_compressor_classification.ipynb",
   "provenance": [],
   "version": "0.3.2"
  },
  "kernelspec": {
   "display_name": "Python 3",
   "language": "python",
   "name": "python3"
  },
  "language_info": {
   "codemirror_mode": {
    "name": "ipython",
    "version": 3
   },
   "file_extension": ".py",
   "mimetype": "text/x-python",
   "name": "python",
   "nbconvert_exporter": "python",
   "pygments_lexer": "ipython3",
   "version": "3.6.4"
  }
 },
 "nbformat": 4,
 "nbformat_minor": 2
}
